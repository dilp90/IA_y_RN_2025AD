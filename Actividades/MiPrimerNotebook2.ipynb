{
  "nbformat": 4,
  "nbformat_minor": 0,
  "metadata": {
    "colab": {
      "provenance": [],
      "authorship_tag": "ABX9TyNN41KGo9emA1xbC8xWsQiI",
      "include_colab_link": true
    },
    "kernelspec": {
      "name": "python3",
      "display_name": "Python 3"
    },
    "language_info": {
      "name": "python"
    }
  },
  "cells": [
    {
      "cell_type": "markdown",
      "metadata": {
        "id": "view-in-github",
        "colab_type": "text"
      },
      "source": [
        "<a href=\"https://colab.research.google.com/github/dilp90/IA_y_RN_2025AD/blob/main/Actividades/MiPrimerNotebook2.ipynb\" target=\"_parent\"><img src=\"https://colab.research.google.com/assets/colab-badge.svg\" alt=\"Open In Colab\"/></a>"
      ]
    },
    {
      "cell_type": "markdown",
      "source": [
        "# **Esta es mi primera notebook**\n",
        "\n",
        "Aqui estoy hciendo mis primeros ejercicios."
      ],
      "metadata": {
        "id": "4k5fv1P59gTu"
      }
    },
    {
      "cell_type": "code",
      "source": [
        "print(\"¡Hola mundo!\")"
      ],
      "metadata": {
        "colab": {
          "base_uri": "https://localhost:8080/"
        },
        "id": "_71llMjD9p0b",
        "outputId": "3b857bf1-5688-4725-f17c-b31aefdbf7c4"
      },
      "execution_count": 36,
      "outputs": [
        {
          "output_type": "stream",
          "name": "stdout",
          "text": [
            "¡Hola mundo!\n"
          ]
        }
      ]
    }
  ]
}